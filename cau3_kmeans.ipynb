{
 "cells": [
  {
   "cell_type": "code",
   "execution_count": null,
   "metadata": {},
   "outputs": [
    {
     "name": "stdout",
     "output_type": "stream",
     "text": [
      "[[-161.02889246  -18.20357928]\n",
      " [ 119.8962895     9.64596633]\n",
      " [ -68.03617138   11.0212701 ]\n",
      " [  21.25977851   25.64192166]]\n"
     ]
    }
   ],
   "source": [
    "import numpy as np\n",
    "import pandas as pd\n",
    "import matplotlib.pyplot as plt\n",
    "from sklearn.metrics import silhouette_score\n",
    "\n",
    "def initialize_K_centroids(X, K):\n",
    "    m,n = X.shape\n",
    "    k_rand = np.ones((K, n))\n",
    "    k_rand = X[np.random.choice(range(len(X)), K, replace=False),:]\n",
    "    return k_rand\n",
    "\n",
    "def find_closest_centroids(X, centroids):\n",
    "    m = len(X)\n",
    "    c = np.zeros(m)\n",
    "    for i in range(m):\n",
    "        # compute distances\n",
    "        distances = np.linalg.norm(X[i] - centroids, axis=1)\n",
    "        c[i] = np.argmin(distances)\n",
    "    return c\n",
    "\n",
    "def compute_means(X, idx, K):\n",
    "    m, n = X.shape\n",
    "    centroids = np.zeros((K, n))\n",
    "    for k in range(K):\n",
    "        points_belong_k = X[np.where(idx == k)]\n",
    "        centroids[k] = np.mean(points_belong_k, axis=0,)\n",
    "    return centroids\n",
    "\n",
    "def find_k_means(X, K, max_iters=10):\n",
    "    _, n = X.shape\n",
    "    centroids = initialize_K_centroids(X, K) \n",
    "    centroid_history = np.zeros((max_iters, K, n))\n",
    "    for i in range(max_iters):\n",
    "        idx = find_closest_centroids(X, centroids)\n",
    "        centroids = compute_means(X, idx, K)\n",
    "    return centroids, idx\n",
    "\n",
    "data = pd.read_csv(r'Countries.csv')\n",
    "\n",
    "# Chuyển dữ liệu DataFrame thành mảng NumPy\n",
    "X = data.iloc[:, 1:3].values\n",
    "K = 4\n",
    "centroids, idx = find_k_means(X, K, max_iters=10)\n",
    "\n",
    "print(centroids)\n",
    "\n",
    "data_with_clusters = data.copy()\n",
    "data_with_clusters['Clusters'] = idx\n",
    "\n",
    "pd.set_option('display.max_rows', None)\n",
    "pd.set_option('display.max_columns', None)\n",
    "\n",
    "#print(data_with_clusters)\n",
    "\n",
    "# đo độ tương phản của mỗi cụm có phân tách tốt hay không\n",
    "#Một Silhouette Score cao (gần 1) cho thấy mỗi điểm dữ liệu trong một cụm gần các điểm dữ liệu khác trong cùng cụm và xa các điểm dữ liệu trong các cụm khác.\n",
    "silhouette_avg = silhouette_score(X, idx)\n",
    "print(\"Silhouette Score:\", silhouette_avg)"
   ]
  }
 ],
 "metadata": {
  "kernelspec": {
   "display_name": "Python 3",
   "language": "python",
   "name": "python3"
  },
  "language_info": {
   "codemirror_mode": {
    "name": "ipython",
    "version": 3
   },
   "file_extension": ".py",
   "mimetype": "text/x-python",
   "name": "python",
   "nbconvert_exporter": "python",
   "pygments_lexer": "ipython3",
   "version": "3.11.7"
  }
 },
 "nbformat": 4,
 "nbformat_minor": 2
}
