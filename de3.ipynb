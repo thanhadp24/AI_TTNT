{
 "cells": [
  {
   "cell_type": "code",
   "execution_count": 1,
   "metadata": {},
   "outputs": [
    {
     "name": "stdout",
     "output_type": "stream",
     "text": [
      "Tâm cụm thứ 1 : [ 7.25 13.  ]\n",
      "Các điểm thuộc cụm thứ 1\n",
      "[[ 3.  12. ]\n",
      " [ 6.   9. ]\n",
      " [ 4.5 12. ]\n",
      " [12.  15. ]\n",
      " [ 9.  18. ]\n",
      " [ 9.  12. ]]\n",
      "Tâm cụm thứ 2 : [12.  3.]\n",
      "Các điểm thuộc cụm thứ 2\n",
      "[[12.  3.]]\n",
      "Tâm cụm thứ 3 : [15.  6.]\n",
      "Các điểm thuộc cụm thứ 3\n",
      "[[15.  6.]]\n"
     ]
    }
   ],
   "source": []
  },
  {
   "cell_type": "code",
   "execution_count": 1,
   "metadata": {},
   "outputs": [
    {
     "name": "stdout",
     "output_type": "stream",
     "text": [
      "Output file has been written successfully to A_out.csv!\n"
     ]
    }
   ],
   "source": [
    "import csv\n",
    "import math\n",
    "from heapq import heappop, heappush\n",
    "\n",
    "def read_input(file_path):\n",
    "    with open(file_path, 'r') as file:\n",
    "        reader = csv.reader(file)\n",
    "        first_line = next(reader)\n",
    "        n = int(first_line[0])\n",
    "        start_row = int(first_line[1])\n",
    "        start_col = int(first_line[2])\n",
    "        grid = []\n",
    "        for line in reader:\n",
    "            grid.append(list(map(int, line)))\n",
    "    return n, start_row, start_col, grid\n",
    "\n",
    "def write_output(path, path_list):\n",
    "    with open(path, 'w', newline='') as file:\n",
    "        writer = csv.writer(file)\n",
    "        if path_list == -1:\n",
    "            writer.writerow([-1])\n",
    "        else:\n",
    "            writer.writerow([len(path_list)])\n",
    "        for position in path_list:\n",
    "            writer.writerow(position)\n",
    "\n",
    "def is_valid_move(x, y, n, grid, visited):\n",
    "    return 0 <= x < n and 0 <= y < n and grid[x][y] == 1 and (x, y) not in visited\n",
    "\n",
    "def heuristic(x, y, n):\n",
    "    return min(x, n - 1 - x) + min(y, n - 1 - y)\n",
    "\n",
    "def a_star(n, start_row, start_col, grid):\n",
    "    directions = [(-1, 0), (1, 0), (0, -1), (0, 1)]\n",
    "    open_set = [(heuristic(start_row, start_col, n), 0, start_row, start_col, [(start_row, start_col)])]\n",
    "    visited = set()\n",
    "    \n",
    "    while open_set:\n",
    "        _, g, x, y, path = heappop(open_set)\n",
    "        \n",
    "        if x in [0, n-1] or y in [0, n-1]:\n",
    "            return path  # Escape found\n",
    "        \n",
    "        visited.add((x, y))\n",
    "        \n",
    "        for dx, dy in directions:\n",
    "            nx, ny = x + dx, y + dy\n",
    "            if is_valid_move(nx, ny, n, grid, visited):\n",
    "                new_g = g + 1\n",
    "                f = new_g + heuristic(nx, ny, n)\n",
    "                heappush(open_set, (f, new_g, nx, ny, path + [(nx, ny)]))\n",
    "    \n",
    "    return -1  # No escape found\n",
    "\n",
    "def main():\n",
    "    input_file = \"A_in.csv\"\n",
    "    n, start_row, start_col, grid = read_input(input_file)\n",
    "    path = a_star(n, start_row, start_col, grid)\n",
    "    output_file = 'A_out.csv'\n",
    "    write_output(output_file, path)\n",
    "    print(f\"Output file has been written successfully to {output_file}!\")\n",
    "\n",
    "if __name__ == \"__main__\":\n",
    "    main()"
   ]
  }
 ],
 "metadata": {
  "kernelspec": {
   "display_name": "Python 3",
   "language": "python",
   "name": "python3"
  },
  "language_info": {
   "codemirror_mode": {
    "name": "ipython",
    "version": 3
   },
   "file_extension": ".py",
   "mimetype": "text/x-python",
   "name": "python",
   "nbconvert_exporter": "python",
   "pygments_lexer": "ipython3",
   "version": "3.11.7"
  }
 },
 "nbformat": 4,
 "nbformat_minor": 2
}
